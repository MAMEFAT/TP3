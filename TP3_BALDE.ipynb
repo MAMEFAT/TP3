{
 "cells": [
  {
   "cell_type": "markdown",
   "id": "bd06c105",
   "metadata": {},
   "source": [
    "# TP 3 "
   ]
  },
  {
   "cell_type": "markdown",
   "id": "5634a581",
   "metadata": {},
   "source": [
    "## Import des Librairies"
   ]
  },
  {
   "cell_type": "code",
   "execution_count": 69,
   "id": "7ec473af",
   "metadata": {},
   "outputs": [
    {
     "name": "stdout",
     "output_type": "stream",
     "text": [
      "Requirement already satisfied: keras in c:\\users\\mamef\\anaconda3\\lib\\site-packages (2.11.0)\n",
      "Requirement already satisfied: tensorflow in c:\\users\\mamef\\anaconda3\\lib\\site-packages (2.11.0)\n",
      "Requirement already satisfied: tensorflow-intel==2.11.0 in c:\\users\\mamef\\anaconda3\\lib\\site-packages (from tensorflow) (2.11.0)\n",
      "Requirement already satisfied: gast<=0.4.0,>=0.2.1 in c:\\users\\mamef\\anaconda3\\lib\\site-packages (from tensorflow-intel==2.11.0->tensorflow) (0.4.0)\n",
      "Requirement already satisfied: tensorflow-estimator<2.12,>=2.11.0 in c:\\users\\mamef\\anaconda3\\lib\\site-packages (from tensorflow-intel==2.11.0->tensorflow) (2.11.0)\n",
      "Requirement already satisfied: six>=1.12.0 in c:\\users\\mamef\\anaconda3\\lib\\site-packages (from tensorflow-intel==2.11.0->tensorflow) (1.16.0)\n",
      "Requirement already satisfied: opt-einsum>=2.3.2 in c:\\users\\mamef\\anaconda3\\lib\\site-packages (from tensorflow-intel==2.11.0->tensorflow) (3.3.0)\n",
      "Requirement already satisfied: grpcio<2.0,>=1.24.3 in c:\\users\\mamef\\anaconda3\\lib\\site-packages (from tensorflow-intel==2.11.0->tensorflow) (1.51.1)\n",
      "Requirement already satisfied: termcolor>=1.1.0 in c:\\users\\mamef\\anaconda3\\lib\\site-packages (from tensorflow-intel==2.11.0->tensorflow) (2.2.0)\n",
      "Requirement already satisfied: libclang>=13.0.0 in c:\\users\\mamef\\anaconda3\\lib\\site-packages (from tensorflow-intel==2.11.0->tensorflow) (15.0.6.1)\n",
      "Requirement already satisfied: astunparse>=1.6.0 in c:\\users\\mamef\\anaconda3\\lib\\site-packages (from tensorflow-intel==2.11.0->tensorflow) (1.6.3)\n",
      "Requirement already satisfied: tensorflow-io-gcs-filesystem>=0.23.1 in c:\\users\\mamef\\anaconda3\\lib\\site-packages (from tensorflow-intel==2.11.0->tensorflow) (0.29.0)\n",
      "Requirement already satisfied: packaging in c:\\users\\mamef\\anaconda3\\lib\\site-packages (from tensorflow-intel==2.11.0->tensorflow) (21.0)\n",
      "Requirement already satisfied: absl-py>=1.0.0 in c:\\users\\mamef\\anaconda3\\lib\\site-packages (from tensorflow-intel==2.11.0->tensorflow) (1.4.0)\n",
      "Requirement already satisfied: setuptools in c:\\users\\mamef\\anaconda3\\lib\\site-packages (from tensorflow-intel==2.11.0->tensorflow) (58.0.4)\n",
      "Requirement already satisfied: keras<2.12,>=2.11.0 in c:\\users\\mamef\\anaconda3\\lib\\site-packages (from tensorflow-intel==2.11.0->tensorflow) (2.11.0)\n",
      "Requirement already satisfied: numpy>=1.20 in c:\\users\\mamef\\anaconda3\\lib\\site-packages (from tensorflow-intel==2.11.0->tensorflow) (1.20.3)\n",
      "Requirement already satisfied: typing-extensions>=3.6.6 in c:\\users\\mamef\\anaconda3\\lib\\site-packages (from tensorflow-intel==2.11.0->tensorflow) (3.10.0.2)\n",
      "Requirement already satisfied: wrapt>=1.11.0 in c:\\users\\mamef\\anaconda3\\lib\\site-packages (from tensorflow-intel==2.11.0->tensorflow) (1.12.1)\n",
      "Requirement already satisfied: h5py>=2.9.0 in c:\\users\\mamef\\anaconda3\\lib\\site-packages (from tensorflow-intel==2.11.0->tensorflow) (3.2.1)\n",
      "Requirement already satisfied: protobuf<3.20,>=3.9.2 in c:\\users\\mamef\\anaconda3\\lib\\site-packages (from tensorflow-intel==2.11.0->tensorflow) (3.19.6)\n",
      "Requirement already satisfied: tensorboard<2.12,>=2.11 in c:\\users\\mamef\\anaconda3\\lib\\site-packages (from tensorflow-intel==2.11.0->tensorflow) (2.11.2)\n",
      "Requirement already satisfied: flatbuffers>=2.0 in c:\\users\\mamef\\anaconda3\\lib\\site-packages (from tensorflow-intel==2.11.0->tensorflow) (23.1.4)\n",
      "Requirement already satisfied: google-pasta>=0.1.1 in c:\\users\\mamef\\anaconda3\\lib\\site-packages (from tensorflow-intel==2.11.0->tensorflow) (0.2.0)\n",
      "Requirement already satisfied: wheel<1.0,>=0.23.0 in c:\\users\\mamef\\anaconda3\\lib\\site-packages (from astunparse>=1.6.0->tensorflow-intel==2.11.0->tensorflow) (0.37.0)\n",
      "Requirement already satisfied: requests<3,>=2.21.0 in c:\\users\\mamef\\anaconda3\\lib\\site-packages (from tensorboard<2.12,>=2.11->tensorflow-intel==2.11.0->tensorflow) (2.26.0)\n",
      "Requirement already satisfied: tensorboard-data-server<0.7.0,>=0.6.0 in c:\\users\\mamef\\anaconda3\\lib\\site-packages (from tensorboard<2.12,>=2.11->tensorflow-intel==2.11.0->tensorflow) (0.6.1)\n",
      "Requirement already satisfied: google-auth-oauthlib<0.5,>=0.4.1 in c:\\users\\mamef\\anaconda3\\lib\\site-packages (from tensorboard<2.12,>=2.11->tensorflow-intel==2.11.0->tensorflow) (0.4.6)\n",
      "Requirement already satisfied: tensorboard-plugin-wit>=1.6.0 in c:\\users\\mamef\\anaconda3\\lib\\site-packages (from tensorboard<2.12,>=2.11->tensorflow-intel==2.11.0->tensorflow) (1.8.1)\n",
      "Requirement already satisfied: werkzeug>=1.0.1 in c:\\users\\mamef\\anaconda3\\lib\\site-packages (from tensorboard<2.12,>=2.11->tensorflow-intel==2.11.0->tensorflow) (2.0.2)\n",
      "Requirement already satisfied: google-auth<3,>=1.6.3 in c:\\users\\mamef\\anaconda3\\lib\\site-packages (from tensorboard<2.12,>=2.11->tensorflow-intel==2.11.0->tensorflow) (2.16.0)\n",
      "Requirement already satisfied: markdown>=2.6.8 in c:\\users\\mamef\\anaconda3\\lib\\site-packages (from tensorboard<2.12,>=2.11->tensorflow-intel==2.11.0->tensorflow) (3.4.1)\n",
      "Requirement already satisfied: pyasn1-modules>=0.2.1 in c:\\users\\mamef\\anaconda3\\lib\\site-packages (from google-auth<3,>=1.6.3->tensorboard<2.12,>=2.11->tensorflow-intel==2.11.0->tensorflow) (0.2.8)\n",
      "Requirement already satisfied: rsa<5,>=3.1.4 in c:\\users\\mamef\\anaconda3\\lib\\site-packages (from google-auth<3,>=1.6.3->tensorboard<2.12,>=2.11->tensorflow-intel==2.11.0->tensorflow) (4.9)\n",
      "Requirement already satisfied: cachetools<6.0,>=2.0.0 in c:\\users\\mamef\\anaconda3\\lib\\site-packages (from google-auth<3,>=1.6.3->tensorboard<2.12,>=2.11->tensorflow-intel==2.11.0->tensorflow) (5.2.1)\n",
      "Requirement already satisfied: requests-oauthlib>=0.7.0 in c:\\users\\mamef\\anaconda3\\lib\\site-packages (from google-auth-oauthlib<0.5,>=0.4.1->tensorboard<2.12,>=2.11->tensorflow-intel==2.11.0->tensorflow) (1.3.1)\n",
      "Requirement already satisfied: importlib-metadata>=4.4 in c:\\users\\mamef\\anaconda3\\lib\\site-packages (from markdown>=2.6.8->tensorboard<2.12,>=2.11->tensorflow-intel==2.11.0->tensorflow) (4.8.1)\n",
      "Requirement already satisfied: zipp>=0.5 in c:\\users\\mamef\\anaconda3\\lib\\site-packages (from importlib-metadata>=4.4->markdown>=2.6.8->tensorboard<2.12,>=2.11->tensorflow-intel==2.11.0->tensorflow) (3.6.0)\n",
      "Requirement already satisfied: pyasn1<0.5.0,>=0.4.6 in c:\\users\\mamef\\anaconda3\\lib\\site-packages (from pyasn1-modules>=0.2.1->google-auth<3,>=1.6.3->tensorboard<2.12,>=2.11->tensorflow-intel==2.11.0->tensorflow) (0.4.8)\n",
      "Requirement already satisfied: idna<4,>=2.5 in c:\\users\\mamef\\anaconda3\\lib\\site-packages (from requests<3,>=2.21.0->tensorboard<2.12,>=2.11->tensorflow-intel==2.11.0->tensorflow) (3.2)\n",
      "Requirement already satisfied: certifi>=2017.4.17 in c:\\users\\mamef\\anaconda3\\lib\\site-packages (from requests<3,>=2.21.0->tensorboard<2.12,>=2.11->tensorflow-intel==2.11.0->tensorflow) (2021.10.8)\n",
      "Requirement already satisfied: urllib3<1.27,>=1.21.1 in c:\\users\\mamef\\anaconda3\\lib\\site-packages (from requests<3,>=2.21.0->tensorboard<2.12,>=2.11->tensorflow-intel==2.11.0->tensorflow) (1.26.7)\n",
      "Requirement already satisfied: charset-normalizer~=2.0.0 in c:\\users\\mamef\\anaconda3\\lib\\site-packages (from requests<3,>=2.21.0->tensorboard<2.12,>=2.11->tensorflow-intel==2.11.0->tensorflow) (2.0.4)\n",
      "Requirement already satisfied: oauthlib>=3.0.0 in c:\\users\\mamef\\anaconda3\\lib\\site-packages (from requests-oauthlib>=0.7.0->google-auth-oauthlib<0.5,>=0.4.1->tensorboard<2.12,>=2.11->tensorflow-intel==2.11.0->tensorflow) (3.2.2)\n",
      "Requirement already satisfied: pyparsing>=2.0.2 in c:\\users\\mamef\\anaconda3\\lib\\site-packages (from packaging->tensorflow-intel==2.11.0->tensorflow) (3.0.4)\n",
      "Collecting PrettyTable\n",
      "  Downloading prettytable-3.6.0-py3-none-any.whl (27 kB)\n",
      "Requirement already satisfied: wcwidth in c:\\users\\mamef\\anaconda3\\lib\\site-packages (from PrettyTable) (0.2.5)\n",
      "Installing collected packages: PrettyTable\n",
      "Successfully installed PrettyTable-3.6.0\n"
     ]
    }
   ],
   "source": [
    "!pip install keras\n",
    "!pip install tensorflow\n",
    "!pip install PrettyTable"
   ]
  },
  {
   "cell_type": "code",
   "execution_count": 70,
   "id": "357c4ff8",
   "metadata": {},
   "outputs": [],
   "source": [
    "import pandas as pd\n",
    "import numpy as np\n",
    "import matplotlib.pyplot as plt\n",
    "from sklearn.preprocessing import MinMaxScaler\n",
    "import math as math\n",
    "from keras.models import Sequential\n",
    "from keras.layers import Dense\n",
    "from keras.layers import LSTM, GRU\n",
    "from keras.layers import Dropout\n",
    "from keras.layers import *\n",
    "from sklearn.metrics import mean_squared_error\n",
    "from sklearn.metrics import mean_absolute_error\n",
    "from sklearn.model_selection import train_test_split\n",
    "from keras.callbacks import EarlyStopping\n",
    "from sklearn.metrics import r2_score\n",
    "from sklearn.ensemble import AdaBoostRegressor, RandomForestRegressor, GradientBoostingRegressor\n",
    "from joblib import parallel_backend\n",
    "\n",
    "from time import time\n",
    "from tensorflow.keras.callbacks import TensorBoard\n",
    "import warnings\n",
    "warnings.filterwarnings('ignore')"
   ]
  },
  {
   "cell_type": "code",
   "execution_count": 71,
   "id": "6a5ff5a7",
   "metadata": {},
   "outputs": [],
   "source": [
    "données = pd.read_fwf('SPX.txt', names=['date', 'valeur'])\n"
   ]
  },
  {
   "cell_type": "code",
   "execution_count": 72,
   "id": "9da20a87",
   "metadata": {},
   "outputs": [
    {
     "data": {
      "text/html": [
       "<div>\n",
       "<style scoped>\n",
       "    .dataframe tbody tr th:only-of-type {\n",
       "        vertical-align: middle;\n",
       "    }\n",
       "\n",
       "    .dataframe tbody tr th {\n",
       "        vertical-align: top;\n",
       "    }\n",
       "\n",
       "    .dataframe thead th {\n",
       "        text-align: right;\n",
       "    }\n",
       "</style>\n",
       "<table border=\"1\" class=\"dataframe\">\n",
       "  <thead>\n",
       "    <tr style=\"text-align: right;\">\n",
       "      <th></th>\n",
       "      <th>date</th>\n",
       "      <th>valeur</th>\n",
       "    </tr>\n",
       "  </thead>\n",
       "  <tbody>\n",
       "    <tr>\n",
       "      <th>0</th>\n",
       "      <td>06/01/1995</td>\n",
       "      <td>460,68</td>\n",
       "    </tr>\n",
       "    <tr>\n",
       "      <th>1</th>\n",
       "      <td>13/01/1995</td>\n",
       "      <td>465,97</td>\n",
       "    </tr>\n",
       "    <tr>\n",
       "      <th>2</th>\n",
       "      <td>20/01/1995</td>\n",
       "      <td>464,78</td>\n",
       "    </tr>\n",
       "    <tr>\n",
       "      <th>3</th>\n",
       "      <td>27/01/1995</td>\n",
       "      <td>470,39</td>\n",
       "    </tr>\n",
       "    <tr>\n",
       "      <th>4</th>\n",
       "      <td>03/02/1995</td>\n",
       "      <td>478,64</td>\n",
       "    </tr>\n",
       "    <tr>\n",
       "      <th>...</th>\n",
       "      <td>...</td>\n",
       "      <td>...</td>\n",
       "    </tr>\n",
       "    <tr>\n",
       "      <th>1287</th>\n",
       "      <td>06/09/2019</td>\n",
       "      <td>2978,7</td>\n",
       "    </tr>\n",
       "    <tr>\n",
       "      <th>1288</th>\n",
       "      <td>13/09/2019</td>\n",
       "      <td>3007,3</td>\n",
       "    </tr>\n",
       "    <tr>\n",
       "      <th>1289</th>\n",
       "      <td>20/09/2019</td>\n",
       "      <td>2992,0</td>\n",
       "    </tr>\n",
       "    <tr>\n",
       "      <th>1290</th>\n",
       "      <td>27/09/2019</td>\n",
       "      <td>2961,7</td>\n",
       "    </tr>\n",
       "    <tr>\n",
       "      <th>1291</th>\n",
       "      <td>04/10/2019</td>\n",
       "      <td>2952,0</td>\n",
       "    </tr>\n",
       "  </tbody>\n",
       "</table>\n",
       "<p>1292 rows × 2 columns</p>\n",
       "</div>"
      ],
      "text/plain": [
       "            date  valeur\n",
       "0     06/01/1995  460,68\n",
       "1     13/01/1995  465,97\n",
       "2     20/01/1995  464,78\n",
       "3     27/01/1995  470,39\n",
       "4     03/02/1995  478,64\n",
       "...          ...     ...\n",
       "1287  06/09/2019  2978,7\n",
       "1288  13/09/2019  3007,3\n",
       "1289  20/09/2019  2992,0\n",
       "1290  27/09/2019  2961,7\n",
       "1291  04/10/2019  2952,0\n",
       "\n",
       "[1292 rows x 2 columns]"
      ]
     },
     "execution_count": 72,
     "metadata": {},
     "output_type": "execute_result"
    }
   ],
   "source": [
    "données"
   ]
  },
  {
   "cell_type": "code",
   "execution_count": 73,
   "id": "a2ad08fe",
   "metadata": {},
   "outputs": [],
   "source": [
    "données['valeur']=données['valeur'].apply(lambda x: x.replace(',', '.'))"
   ]
  },
  {
   "cell_type": "code",
   "execution_count": 74,
   "id": "c5d84a4c",
   "metadata": {},
   "outputs": [],
   "source": [
    "données['valeur']= données['valeur'].astype(float)"
   ]
  },
  {
   "cell_type": "code",
   "execution_count": 75,
   "id": "c16f956e",
   "metadata": {},
   "outputs": [],
   "source": [
    "volatilité = pd.read_fwf('VIX.txt', names=['date', 'valeur'])"
   ]
  },
  {
   "cell_type": "code",
   "execution_count": 76,
   "id": "c28c8cb2",
   "metadata": {},
   "outputs": [
    {
     "data": {
      "text/html": [
       "<div>\n",
       "<style scoped>\n",
       "    .dataframe tbody tr th:only-of-type {\n",
       "        vertical-align: middle;\n",
       "    }\n",
       "\n",
       "    .dataframe tbody tr th {\n",
       "        vertical-align: top;\n",
       "    }\n",
       "\n",
       "    .dataframe thead th {\n",
       "        text-align: right;\n",
       "    }\n",
       "</style>\n",
       "<table border=\"1\" class=\"dataframe\">\n",
       "  <thead>\n",
       "    <tr style=\"text-align: right;\">\n",
       "      <th></th>\n",
       "      <th>date</th>\n",
       "      <th>valeur</th>\n",
       "    </tr>\n",
       "  </thead>\n",
       "  <tbody>\n",
       "    <tr>\n",
       "      <th>0</th>\n",
       "      <td>06/01/1995</td>\n",
       "      <td>13,13</td>\n",
       "    </tr>\n",
       "    <tr>\n",
       "      <th>1</th>\n",
       "      <td>13/01/1995</td>\n",
       "      <td>11,1</td>\n",
       "    </tr>\n",
       "    <tr>\n",
       "      <th>2</th>\n",
       "      <td>20/01/1995</td>\n",
       "      <td>12,15</td>\n",
       "    </tr>\n",
       "    <tr>\n",
       "      <th>3</th>\n",
       "      <td>27/01/1995</td>\n",
       "      <td>11,25</td>\n",
       "    </tr>\n",
       "    <tr>\n",
       "      <th>4</th>\n",
       "      <td>03/02/1995</td>\n",
       "      <td>10,98</td>\n",
       "    </tr>\n",
       "    <tr>\n",
       "      <th>...</th>\n",
       "      <td>...</td>\n",
       "      <td>...</td>\n",
       "    </tr>\n",
       "    <tr>\n",
       "      <th>1287</th>\n",
       "      <td>06/09/2019</td>\n",
       "      <td>15</td>\n",
       "    </tr>\n",
       "    <tr>\n",
       "      <th>1288</th>\n",
       "      <td>13/09/2019</td>\n",
       "      <td>13,74</td>\n",
       "    </tr>\n",
       "    <tr>\n",
       "      <th>1289</th>\n",
       "      <td>20/09/2019</td>\n",
       "      <td>15,32</td>\n",
       "    </tr>\n",
       "    <tr>\n",
       "      <th>1290</th>\n",
       "      <td>27/09/2019</td>\n",
       "      <td>17,22</td>\n",
       "    </tr>\n",
       "    <tr>\n",
       "      <th>1291</th>\n",
       "      <td>04/10/2019</td>\n",
       "      <td>17,04</td>\n",
       "    </tr>\n",
       "  </tbody>\n",
       "</table>\n",
       "<p>1292 rows × 2 columns</p>\n",
       "</div>"
      ],
      "text/plain": [
       "            date valeur\n",
       "0     06/01/1995  13,13\n",
       "1     13/01/1995   11,1\n",
       "2     20/01/1995  12,15\n",
       "3     27/01/1995  11,25\n",
       "4     03/02/1995  10,98\n",
       "...          ...    ...\n",
       "1287  06/09/2019     15\n",
       "1288  13/09/2019  13,74\n",
       "1289  20/09/2019  15,32\n",
       "1290  27/09/2019  17,22\n",
       "1291  04/10/2019  17,04\n",
       "\n",
       "[1292 rows x 2 columns]"
      ]
     },
     "execution_count": 76,
     "metadata": {},
     "output_type": "execute_result"
    }
   ],
   "source": [
    "volatilité"
   ]
  },
  {
   "cell_type": "code",
   "execution_count": 77,
   "id": "bab5b25e",
   "metadata": {},
   "outputs": [],
   "source": [
    "file_name = 'mame7'"
   ]
  },
  {
   "cell_type": "code",
   "execution_count": 78,
   "id": "ec9a25fd",
   "metadata": {},
   "outputs": [
    {
     "data": {
      "text/plain": [
       "'mame7'"
      ]
     },
     "execution_count": 78,
     "metadata": {},
     "output_type": "execute_result"
    }
   ],
   "source": [
    "file_name"
   ]
  },
  {
   "cell_type": "code",
   "execution_count": 79,
   "id": "76fbf44a",
   "metadata": {},
   "outputs": [],
   "source": [
    "tensorboard = TensorBoard(log_dir=\"logs2/{}\".format(file_name))"
   ]
  },
  {
   "cell_type": "code",
   "execution_count": 80,
   "id": "a6a4f821",
   "metadata": {},
   "outputs": [
    {
     "data": {
      "text/plain": [
       "<keras.callbacks.TensorBoard at 0x2045f43adf0>"
      ]
     },
     "execution_count": 80,
     "metadata": {},
     "output_type": "execute_result"
    }
   ],
   "source": [
    "tensorboard"
   ]
  },
  {
   "cell_type": "code",
   "execution_count": 81,
   "id": "9cc257bd",
   "metadata": {},
   "outputs": [],
   "source": [
    "X = np.array(données['valeur'])"
   ]
  },
  {
   "cell_type": "code",
   "execution_count": 82,
   "id": "85c31fbd",
   "metadata": {},
   "outputs": [
    {
     "data": {
      "text/plain": [
       "array([ 460.68,  465.97,  464.78, ..., 2992.  , 2961.7 , 2952.  ])"
      ]
     },
     "execution_count": 82,
     "metadata": {},
     "output_type": "execute_result"
    }
   ],
   "source": [
    "X"
   ]
  },
  {
   "cell_type": "code",
   "execution_count": 83,
   "id": "2efa0cb6",
   "metadata": {},
   "outputs": [
    {
     "data": {
      "text/plain": [
       "(1292,)"
      ]
     },
     "execution_count": 83,
     "metadata": {},
     "output_type": "execute_result"
    }
   ],
   "source": [
    "X.shape"
   ]
  },
  {
   "cell_type": "code",
   "execution_count": 84,
   "id": "30385e49",
   "metadata": {},
   "outputs": [],
   "source": [
    "X = X.reshape((1292, 1))"
   ]
  },
  {
   "cell_type": "code",
   "execution_count": 85,
   "id": "fa326044",
   "metadata": {},
   "outputs": [
    {
     "data": {
      "text/plain": [
       "array([[ 460.68],\n",
       "       [ 465.97],\n",
       "       [ 464.78],\n",
       "       ...,\n",
       "       [2992.  ],\n",
       "       [2961.7 ],\n",
       "       [2952.  ]])"
      ]
     },
     "execution_count": 85,
     "metadata": {},
     "output_type": "execute_result"
    }
   ],
   "source": [
    "X"
   ]
  },
  {
   "cell_type": "code",
   "execution_count": 86,
   "id": "e38976da",
   "metadata": {},
   "outputs": [],
   "source": [
    "training_data_len = math.ceil(len(X)* 0.75) # training set has 75% of the data"
   ]
  },
  {
   "cell_type": "code",
   "execution_count": 87,
   "id": "2add3f20",
   "metadata": {},
   "outputs": [
    {
     "data": {
      "text/plain": [
       "969"
      ]
     },
     "execution_count": 87,
     "metadata": {},
     "output_type": "execute_result"
    }
   ],
   "source": [
    "training_data_len"
   ]
  },
  {
   "cell_type": "markdown",
   "id": "d51d0843",
   "metadata": {},
   "source": [
    "## Normalisation des données avant l'ajustement du modèle à l'aide de MinMaxScaler"
   ]
  },
  {
   "cell_type": "code",
   "execution_count": 88,
   "id": "3577d2d0",
   "metadata": {},
   "outputs": [],
   "source": [
    "# Mise à l'échelle des fonctionnalités\n",
    "scaler = MinMaxScaler(feature_range=(0,1))\n"
   ]
  },
  {
   "cell_type": "code",
   "execution_count": 89,
   "id": "cfb52d4b",
   "metadata": {},
   "outputs": [],
   "source": [
    "training_data = scaler.fit_transform(X)"
   ]
  },
  {
   "cell_type": "code",
   "execution_count": 90,
   "id": "ae56039d",
   "metadata": {},
   "outputs": [],
   "source": [
    "split_val = 887\n",
    "train_data = training_data[0:split_val  , : ]"
   ]
  },
  {
   "cell_type": "code",
   "execution_count": 91,
   "id": "3db962f9",
   "metadata": {},
   "outputs": [],
   "source": [
    "X_train = []\n",
    "y_train = []\n",
    "for i in range(180, len(train_data)):\n",
    "    X_train.append(train_data[i-180:i, 0])\n",
    "    y_train.append(train_data[i, 0])\n",
    "\n",
    "X_train, y_train = np.array(X_train), np.array(y_train) "
   ]
  },
  {
   "cell_type": "markdown",
   "id": "4b2283dd",
   "metadata": {},
   "source": [
    "## conversion en séquences numpy pour former le modèle LSTM"
   ]
  },
  {
   "cell_type": "code",
   "execution_count": 92,
   "id": "d97ca34c",
   "metadata": {},
   "outputs": [
    {
     "name": "stdout",
     "output_type": "stream",
     "text": [
      "Nombre de lignes et de colonnes:  (707, 180, 1)\n"
     ]
    }
   ],
   "source": [
    "X_train = np.reshape(X_train, (X_train.shape[0], X_train.shape[1], 1))\n",
    "print('Nombre de lignes et de colonnes: ', X_train.shape)  #(854 values, 180 time-steps, 1 output)"
   ]
  },
  {
   "cell_type": "markdown",
   "id": "9bb6e263",
   "metadata": {},
   "source": [
    "## Données test"
   ]
  },
  {
   "cell_type": "code",
   "execution_count": 93,
   "id": "0037a582",
   "metadata": {},
   "outputs": [],
   "source": [
    "test_data = training_data[split_val - 180: , : ]"
   ]
  },
  {
   "cell_type": "markdown",
   "id": "6add34bd",
   "metadata": {},
   "source": [
    "Créons les jeux de données x_test et y_test"
   ]
  },
  {
   "cell_type": "code",
   "execution_count": 94,
   "id": "87a84059",
   "metadata": {},
   "outputs": [],
   "source": [
    "X_test = []\n",
    "y_test =  X[split_val : , : ]\n",
    "for i in range(180,len(test_data)):\n",
    "    X_test.append(test_data[i-180:i,0])"
   ]
  },
  {
   "cell_type": "markdown",
   "id": "70cdd202",
   "metadata": {},
   "source": [
    "Convertissons x_test en un tableau numpy"
   ]
  },
  {
   "cell_type": "code",
   "execution_count": 95,
   "id": "5e2c05f0",
   "metadata": {},
   "outputs": [],
   "source": [
    "X_test = np.array(X_test)"
   ]
  },
  {
   "cell_type": "markdown",
   "id": "5563a5c2",
   "metadata": {},
   "source": [
    "Remodelons les données dans la forme acceptée par le LSTM"
   ]
  },
  {
   "cell_type": "code",
   "execution_count": 96,
   "id": "1141cc5d",
   "metadata": {},
   "outputs": [
    {
     "name": "stdout",
     "output_type": "stream",
     "text": [
      "Nombre de lignes et de colonnes:  (405, 180, 1)\n"
     ]
    }
   ],
   "source": [
    "X_test = np.reshape(X_test, (X_test.shape[0],X_test.shape[1],1))\n",
    "print('Nombre de lignes et de colonnes: ', X_test.shape)\n"
   ]
  },
  {
   "cell_type": "markdown",
   "id": "6250edc6",
   "metadata": {},
   "source": [
    "# Modèle LSTM"
   ]
  },
  {
   "cell_type": "code",
   "execution_count": 100,
   "id": "6fda0f08",
   "metadata": {},
   "outputs": [
    {
     "name": "stdout",
     "output_type": "stream",
     "text": [
      "Epoch 1/100\n",
      "23/23 [==============================] - 13s 168ms/step - loss: 0.0143\n",
      "Epoch 2/100\n",
      "23/23 [==============================] - 4s 163ms/step - loss: 0.0040\n",
      "Epoch 3/100\n",
      "23/23 [==============================] - 4s 165ms/step - loss: 0.0035\n",
      "Epoch 4/100\n",
      "23/23 [==============================] - 4s 166ms/step - loss: 0.0028\n",
      "Epoch 5/100\n",
      "23/23 [==============================] - 4s 167ms/step - loss: 0.0025\n",
      "Epoch 6/100\n",
      "23/23 [==============================] - 4s 167ms/step - loss: 0.0024\n",
      "Epoch 7/100\n",
      "23/23 [==============================] - 4s 177ms/step - loss: 0.0022\n",
      "Epoch 8/100\n",
      "23/23 [==============================] - 5s 219ms/step - loss: 0.0022\n",
      "Epoch 9/100\n",
      "23/23 [==============================] - 5s 232ms/step - loss: 0.0022\n",
      "Epoch 10/100\n",
      "23/23 [==============================] - 5s 220ms/step - loss: 0.0020\n",
      "Epoch 11/100\n",
      "23/23 [==============================] - 5s 219ms/step - loss: 0.0019\n",
      "Epoch 12/100\n",
      "23/23 [==============================] - 5s 229ms/step - loss: 0.0017\n",
      "Epoch 13/100\n",
      "23/23 [==============================] - 5s 219ms/step - loss: 0.0020\n",
      "Epoch 14/100\n",
      "23/23 [==============================] - 5s 228ms/step - loss: 0.0018\n",
      "Epoch 15/100\n",
      "23/23 [==============================] - 6s 275ms/step - loss: 0.0016\n",
      "Epoch 16/100\n",
      "23/23 [==============================] - 6s 250ms/step - loss: 0.0017\n",
      "Epoch 17/100\n",
      "23/23 [==============================] - 6s 249ms/step - loss: 0.0017\n",
      "Epoch 18/100\n",
      "23/23 [==============================] - 6s 271ms/step - loss: 0.0016\n",
      "Epoch 19/100\n",
      "23/23 [==============================] - 6s 262ms/step - loss: 0.0015\n",
      "Epoch 20/100\n",
      "23/23 [==============================] - 9s 408ms/step - loss: 0.0014\n",
      "Epoch 21/100\n",
      "23/23 [==============================] - 8s 366ms/step - loss: 0.0016\n",
      "Epoch 22/100\n",
      "23/23 [==============================] - 10s 422ms/step - loss: 0.0016\n",
      "Epoch 23/100\n",
      "23/23 [==============================] - 10s 435ms/step - loss: 0.0014\n",
      "Epoch 24/100\n",
      "23/23 [==============================] - 10s 423ms/step - loss: 0.0015\n",
      "Epoch 25/100\n",
      "23/23 [==============================] - 10s 425ms/step - loss: 0.0013\n",
      "Epoch 26/100\n",
      "23/23 [==============================] - 10s 435ms/step - loss: 0.0013\n",
      "Epoch 27/100\n",
      "23/23 [==============================] - 10s 429ms/step - loss: 0.0015\n",
      "Epoch 28/100\n",
      "23/23 [==============================] - 10s 432ms/step - loss: 0.0014\n",
      "Epoch 29/100\n",
      "23/23 [==============================] - 10s 436ms/step - loss: 0.0013\n",
      "Epoch 30/100\n",
      "23/23 [==============================] - 10s 427ms/step - loss: 0.0014\n",
      "Epoch 31/100\n",
      "23/23 [==============================] - 10s 433ms/step - loss: 0.0011\n",
      "Epoch 32/100\n",
      "23/23 [==============================] - 10s 427ms/step - loss: 0.0012\n",
      "Epoch 33/100\n",
      "23/23 [==============================] - 10s 427ms/step - loss: 0.0013\n",
      "Epoch 34/100\n",
      "23/23 [==============================] - 10s 435ms/step - loss: 0.0013\n",
      "Epoch 35/100\n",
      "23/23 [==============================] - 10s 425ms/step - loss: 0.0011\n",
      "Epoch 36/100\n",
      "23/23 [==============================] - 10s 431ms/step - loss: 0.0011\n",
      "Epoch 37/100\n",
      "23/23 [==============================] - 10s 432ms/step - loss: 0.0011\n",
      "Epoch 38/100\n",
      "23/23 [==============================] - 10s 426ms/step - loss: 0.0013\n",
      "Epoch 39/100\n",
      "23/23 [==============================] - 10s 439ms/step - loss: 0.0010\n",
      "Epoch 40/100\n",
      "23/23 [==============================] - 10s 429ms/step - loss: 9.9908e-04\n",
      "Epoch 41/100\n",
      "23/23 [==============================] - 10s 427ms/step - loss: 0.0011\n",
      "Epoch 42/100\n",
      "23/23 [==============================] - 10s 436ms/step - loss: 0.0012\n",
      "Epoch 43/100\n",
      "23/23 [==============================] - 10s 428ms/step - loss: 0.0010\n",
      "Epoch 44/100\n",
      "23/23 [==============================] - 10s 433ms/step - loss: 9.6704e-04\n",
      "Epoch 45/100\n",
      "23/23 [==============================] - 10s 426ms/step - loss: 0.0011\n",
      "Epoch 46/100\n",
      "23/23 [==============================] - 10s 431ms/step - loss: 9.1872e-04\n",
      "Epoch 47/100\n",
      "23/23 [==============================] - 10s 434ms/step - loss: 0.0010\n",
      "Epoch 48/100\n",
      "23/23 [==============================] - 10s 424ms/step - loss: 0.0011\n",
      "Epoch 49/100\n",
      "23/23 [==============================] - 10s 428ms/step - loss: 9.2543e-04\n",
      "Epoch 50/100\n",
      "23/23 [==============================] - 10s 435ms/step - loss: 0.0010\n",
      "Epoch 51/100\n",
      "23/23 [==============================] - 10s 427ms/step - loss: 9.1822e-04\n",
      "Epoch 52/100\n",
      "23/23 [==============================] - 10s 437ms/step - loss: 9.1024e-04\n",
      "Epoch 53/100\n",
      "23/23 [==============================] - 10s 415ms/step - loss: 8.7346e-04\n",
      "Epoch 54/100\n",
      "23/23 [==============================] - 9s 411ms/step - loss: 7.8119e-04\n",
      "Epoch 55/100\n",
      "23/23 [==============================] - 10s 422ms/step - loss: 8.5296e-04\n",
      "Epoch 56/100\n",
      "23/23 [==============================] - 10s 426ms/step - loss: 8.4524e-04\n",
      "Epoch 57/100\n",
      "23/23 [==============================] - 10s 435ms/step - loss: 7.8078e-04\n",
      "Epoch 58/100\n",
      "23/23 [==============================] - 10s 426ms/step - loss: 9.2610e-04\n",
      "Epoch 59/100\n",
      "23/23 [==============================] - 10s 425ms/step - loss: 8.2769e-04\n",
      "Epoch 60/100\n",
      "23/23 [==============================] - 10s 432ms/step - loss: 8.8966e-04\n",
      "Epoch 61/100\n",
      "23/23 [==============================] - 10s 427ms/step - loss: 8.4447e-04\n",
      "Epoch 62/100\n",
      "23/23 [==============================] - 10s 432ms/step - loss: 7.4169e-04\n",
      "Epoch 63/100\n",
      "23/23 [==============================] - 10s 437ms/step - loss: 7.4697e-04\n",
      "Epoch 64/100\n",
      "23/23 [==============================] - 10s 431ms/step - loss: 8.0020e-04\n",
      "Epoch 65/100\n",
      "23/23 [==============================] - 10s 436ms/step - loss: 7.3375e-04\n",
      "Epoch 66/100\n",
      "23/23 [==============================] - 10s 429ms/step - loss: 6.8926e-04\n",
      "Epoch 67/100\n",
      "23/23 [==============================] - 10s 428ms/step - loss: 7.4505e-04\n",
      "Epoch 68/100\n",
      "23/23 [==============================] - 10s 432ms/step - loss: 7.1669e-04\n",
      "Epoch 69/100\n",
      "23/23 [==============================] - 10s 428ms/step - loss: 7.1345e-04\n",
      "Epoch 70/100\n",
      "23/23 [==============================] - 10s 434ms/step - loss: 6.8869e-04\n",
      "Epoch 71/100\n",
      "23/23 [==============================] - 10s 430ms/step - loss: 7.3714e-04\n",
      "Epoch 72/100\n",
      "23/23 [==============================] - 10s 426ms/step - loss: 6.9790e-04\n",
      "Epoch 73/100\n",
      "23/23 [==============================] - 10s 432ms/step - loss: 7.0191e-04\n",
      "Epoch 74/100\n",
      "23/23 [==============================] - 10s 417ms/step - loss: 6.3994e-04\n",
      "Epoch 75/100\n",
      "23/23 [==============================] - 10s 425ms/step - loss: 6.3838e-04\n",
      "Epoch 76/100\n",
      "23/23 [==============================] - 10s 430ms/step - loss: 6.3575e-04\n",
      "Epoch 77/100\n",
      "23/23 [==============================] - 10s 411ms/step - loss: 5.8931e-04\n",
      "Epoch 78/100\n",
      "23/23 [==============================] - 10s 417ms/step - loss: 5.9621e-04\n",
      "Epoch 79/100\n",
      "23/23 [==============================] - 9s 410ms/step - loss: 5.6345e-04\n",
      "Epoch 80/100\n",
      "23/23 [==============================] - 10s 416ms/step - loss: 5.8371e-04\n",
      "Epoch 81/100\n",
      "23/23 [==============================] - 10s 435ms/step - loss: 5.8882e-04\n",
      "Epoch 82/100\n",
      "23/23 [==============================] - 9s 401ms/step - loss: 5.7459e-04\n",
      "Epoch 83/100\n",
      "23/23 [==============================] - 10s 415ms/step - loss: 5.1124e-04\n",
      "Epoch 84/100\n",
      "23/23 [==============================] - 10s 413ms/step - loss: 5.0770e-04\n",
      "Epoch 85/100\n",
      "23/23 [==============================] - 10s 417ms/step - loss: 5.8474e-04\n",
      "Epoch 86/100\n",
      "23/23 [==============================] - 10s 420ms/step - loss: 5.8576e-04\n",
      "Epoch 87/100\n",
      "23/23 [==============================] - 10s 421ms/step - loss: 5.3722e-04\n",
      "Epoch 88/100\n",
      "23/23 [==============================] - 10s 424ms/step - loss: 4.9869e-04\n",
      "Epoch 89/100\n",
      "23/23 [==============================] - 10s 423ms/step - loss: 5.1091e-04\n",
      "Epoch 90/100\n",
      "23/23 [==============================] - 10s 414ms/step - loss: 5.5073e-04\n",
      "Epoch 91/100\n",
      "23/23 [==============================] - 10s 422ms/step - loss: 4.5587e-04\n",
      "Epoch 92/100\n",
      "23/23 [==============================] - 10s 416ms/step - loss: 5.2965e-04\n",
      "Epoch 93/100\n",
      "23/23 [==============================] - 10s 419ms/step - loss: 4.6931e-04\n",
      "Epoch 94/100\n",
      "23/23 [==============================] - 10s 416ms/step - loss: 4.7700e-04\n",
      "Epoch 95/100\n",
      "23/23 [==============================] - 10s 414ms/step - loss: 5.2504e-04\n",
      "Epoch 96/100\n",
      "23/23 [==============================] - 10s 426ms/step - loss: 5.1949e-04\n",
      "Epoch 97/100\n",
      "23/23 [==============================] - 10s 416ms/step - loss: 4.8076e-04\n",
      "Epoch 98/100\n",
      "23/23 [==============================] - 10s 424ms/step - loss: 4.5119e-04\n",
      "Epoch 99/100\n",
      "23/23 [==============================] - 10s 416ms/step - loss: 4.4452e-04\n",
      "Epoch 100/100\n",
      "23/23 [==============================] - 10s 417ms/step - loss: 4.6846e-04\n"
     ]
    }
   ],
   "source": [
    "model_LSTM = Sequential()\n",
    "\n",
    "#Ajout de la première couche LSTM et de la régularisation Dropout\n",
    "model_LSTM.add(LSTM(units = 50, return_sequences = True, input_shape = (X_train.shape[1], 1)))\n",
    "model_LSTM.add(Dropout(0.2))\n",
    "\n",
    "# Ajout de la deuxième couche LSTM et de la régularisation Dropout\n",
    "model_LSTM.add(LSTM(units = 50, return_sequences = True))\n",
    "model_LSTM.add(Dropout(0.2))\n",
    "\n",
    "# Ajout de la troisième couche LSTM et de la régularisation Dropout\n",
    "model_LSTM.add(LSTM(units = 50, return_sequences = True))\n",
    "model_LSTM.add(Dropout(0.2))\n",
    "\n",
    "model_LSTM.add(LSTM(units = 50))\n",
    "model_LSTM.add(Dropout(0.3))\n",
    "\n",
    "#Ajout de la couche de sortie\n",
    "model_LSTM.add(Dense(units = 1))\n",
    "\n",
    "# Compilation du LSTM\n",
    "model_LSTM.compile(\n",
    "    optimizer = 'adam', \n",
    "    loss = 'mean_squared_error')\n",
    "\n",
    "# Ajustement du RNN à l'ensemble d'entraînement\n",
    "History = model_LSTM.fit(X_train, y_train, epochs = 100, batch_size = 32, callbacks=[tensorboard])\n"
   ]
  },
  {
   "cell_type": "markdown",
   "id": "06940785",
   "metadata": {},
   "source": [
    "# test"
   ]
  },
  {
   "cell_type": "code",
   "execution_count": 101,
   "id": "9b8eee4a",
   "metadata": {},
   "outputs": [
    {
     "name": "stdout",
     "output_type": "stream",
     "text": [
      "13/13 [==============================] - 5s 152ms/step\n"
     ]
    }
   ],
   "source": [
    "predicted_stock_lstm = model_LSTM.predict(X_test)\n",
    "predicted_stock_lstm = scaler.inverse_transform(predicted_stock_lstm)\n",
    "train = données[:split_val]\n",
    "valid = données[split_val:]\n",
    "valid['Predictions'] = predicted_stock_lstm"
   ]
  },
  {
   "cell_type": "code",
   "execution_count": 106,
   "id": "265a1166",
   "metadata": {},
   "outputs": [
    {
     "name": "stdout",
     "output_type": "stream",
     "text": [
      "0.9647149397901081\n",
      "79.39638876832562\n",
      "8147.708594651272\n"
     ]
    }
   ],
   "source": [
    "print(r2_score(y_test, predicted_stock_lstm))\n",
    "print(mean_absolute_error(y_test, predicted_stock_lstm))\n",
    "print(mean_squared_error(y_test, predicted_stock_lstm))"
   ]
  },
  {
   "cell_type": "markdown",
   "id": "3ef97c2d",
   "metadata": {},
   "source": [
    "# Modèle  LSTM"
   ]
  },
  {
   "cell_type": "code",
   "execution_count": 107,
   "id": "ef3a5835",
   "metadata": {},
   "outputs": [],
   "source": [
    "from keras.layers import Input, Conv1D, MaxPooling1D, Flatten, Dense, Dropout\n",
    "from keras.layers import LSTM\n",
    "from keras.models import Model"
   ]
  },
  {
   "cell_type": "code",
   "execution_count": 108,
   "id": "81c78351",
   "metadata": {},
   "outputs": [],
   "source": [
    "# définir la couche d'entrée\n",
    "input_layer = Input(shape=(X_train.shape[1], 1))\n"
   ]
  },
  {
   "cell_type": "code",
   "execution_count": 109,
   "id": "bc007cf0",
   "metadata": {},
   "outputs": [],
   "source": [
    "# appliquer une couche convolutive 1D avec 64 filtres de taille 3x3\n",
    "conv1 = Conv1D(64, 3, activation='relu')(input_layer)"
   ]
  },
  {
   "cell_type": "code",
   "execution_count": 110,
   "id": "08a4bc65",
   "metadata": {},
   "outputs": [],
   "source": [
    "# appliquer une couche convolutive 1D avec 32 filtres de taille 3x3\n",
    "conv2 = Conv1D(64, 3, activation='relu')(conv1)\n"
   ]
  },
  {
   "cell_type": "code",
   "execution_count": 111,
   "id": "ed97fe9a",
   "metadata": {},
   "outputs": [],
   "source": [
    "# Appliquer la couche de normalisation par lots\n",
    "conv2 = BatchNormalization()(conv2)"
   ]
  },
  {
   "cell_type": "code",
   "execution_count": 112,
   "id": "c924b01b",
   "metadata": {},
   "outputs": [],
   "source": [
    "# appliquer la mise en commun maximale\n",
    "pool1 = MaxPooling1D(pool_size=2)(conv2)"
   ]
  },
  {
   "cell_type": "code",
   "execution_count": 113,
   "id": "27f653c6",
   "metadata": {},
   "outputs": [],
   "source": [
    "# appliquer une couche convolutive 1D avec 32 filtres de taille 3x3\n",
    "conv3 = Conv1D(64, 3, activation='relu')(pool1)\n",
    "conv3_ = Dropout(0.3)(conv3)"
   ]
  },
  {
   "cell_type": "code",
   "execution_count": 114,
   "id": "de119b0a",
   "metadata": {},
   "outputs": [],
   "source": [
    "# appliquer la mise en commun maximale\n",
    "pool2 = MaxPooling1D(pool_size=2)(conv3_)"
   ]
  },
  {
   "cell_type": "code",
   "execution_count": 115,
   "id": "dc602dfa",
   "metadata": {},
   "outputs": [],
   "source": [
    "# Appliquer la couche LSTM\n",
    "lstm_layer = LSTM(50,return_sequences=True)(pool2)\n",
    "lstm_layer = Dropout(0.3)(lstm_layer)"
   ]
  },
  {
   "cell_type": "code",
   "execution_count": 116,
   "id": "ce0b2197",
   "metadata": {},
   "outputs": [],
   "source": [
    "# aplatir la sortie de la couche LSTM pour la couche entièrement connectée\n",
    "lstm_layer2 = LSTM(50,return_sequences=True)(pool2)\n",
    "lstm_layer2 = Dropout(0.3)(lstm_layer2)"
   ]
  },
  {
   "cell_type": "code",
   "execution_count": 117,
   "id": "c1cc2054",
   "metadata": {},
   "outputs": [],
   "source": [
    "#appliquer une couche de suppression pour la régularisation\n",
    "flat_layer = Flatten()(lstm_layer2)"
   ]
  },
  {
   "cell_type": "code",
   "execution_count": 118,
   "id": "4c4e5074",
   "metadata": {},
   "outputs": [],
   "source": [
    "# apply a fully connected layer with a single output\n",
    "output_layer = Dense(1, activation='relu')(flat_layer)"
   ]
  },
  {
   "cell_type": "code",
   "execution_count": 119,
   "id": "8eae41b7",
   "metadata": {},
   "outputs": [],
   "source": [
    "model = Model(inputs=input_layer, outputs=output_layer)"
   ]
  },
  {
   "cell_type": "code",
   "execution_count": 120,
   "id": "661d4340",
   "metadata": {},
   "outputs": [],
   "source": [
    "# compile the model\n",
    "model.compile(optimizer='adam', loss='mean_squared_error')"
   ]
  },
  {
   "cell_type": "code",
   "execution_count": 121,
   "id": "f65fbc03",
   "metadata": {
    "scrolled": true
   },
   "outputs": [
    {
     "name": "stdout",
     "output_type": "stream",
     "text": [
      "23/23 [==============================] - 7s 56ms/step - loss: 0.0212\n"
     ]
    },
    {
     "data": {
      "text/plain": [
       "<keras.callbacks.History at 0x204406e1760>"
      ]
     },
     "execution_count": 121,
     "metadata": {},
     "output_type": "execute_result"
    }
   ],
   "source": [
    "# train the model on the training data\n",
    "model.fit(X_train, y_train)"
   ]
  },
  {
   "cell_type": "code",
   "execution_count": 122,
   "id": "d165e386",
   "metadata": {},
   "outputs": [
    {
     "name": "stdout",
     "output_type": "stream",
     "text": [
      "13/13 [==============================] - 1s 19ms/step\n"
     ]
    },
    {
     "data": {
      "text/plain": [
       "-6.61071524375695"
      ]
     },
     "execution_count": 122,
     "metadata": {},
     "output_type": "execute_result"
    }
   ],
   "source": [
    "predicted_stock_price = model.predict(X_test)\n",
    "predicted_stock_price = scaler.inverse_transform(predicted_stock_price)\n",
    "train_ = données[:split_val]\n",
    "valid_ = données[split_val:]\n",
    "valid_['Predictions'] = predicted_stock_price\n",
    "score = r2_score(y_test, predicted_stock_price)\n",
    "score"
   ]
  },
  {
   "cell_type": "code",
   "execution_count": 123,
   "id": "dcf9d0aa",
   "metadata": {},
   "outputs": [
    {
     "data": {
      "image/png": "[encoded data removed]",
      "text/plain": [
       "<Figure size 1152x576 with 1 Axes>"
      ]
     },
     "metadata": {
      "needs_background": "light"
     },
     "output_type": "display_data"
    }
   ],
   "source": [
    "plt.figure(figsize=(16,8))\n",
    "plt.title('Model')\n",
    "plt.xlabel('Date', fontsize=8)\n",
    "plt.ylabel('SPX', fontsize=12)\n",
    "plt.plot(train_['valeur'])\n",
    "plt.plot(valid_[['valeur', 'Predictions']])\n",
    "plt.legend(['Train', 'Val', 'Predictions'], loc='lower right')\n",
    "plt.show()\n"
   ]
  },
  {
   "cell_type": "markdown",
   "id": "e16beb01",
   "metadata": {},
   "source": [
    "# Modèle GRU "
   ]
  },
  {
   "cell_type": "code",
   "execution_count": 124,
   "id": "8fa182b5",
   "metadata": {},
   "outputs": [
    {
     "name": "stdout",
     "output_type": "stream",
     "text": [
      "Epoch 1/100\n",
      "23/23 [==============================] - 52s 1s/step - loss: 0.0132\n",
      "Epoch 2/100\n",
      "23/23 [==============================] - 25s 1s/step - loss: 0.0047\n",
      "Epoch 3/100\n",
      "23/23 [==============================] - 25s 1s/step - loss: 0.0029\n",
      "Epoch 4/100\n",
      "23/23 [==============================] - 25s 1s/step - loss: 0.0025\n",
      "Epoch 5/100\n",
      "23/23 [==============================] - 25s 1s/step - loss: 0.0021\n",
      "Epoch 6/100\n",
      "23/23 [==============================] - 25s 1s/step - loss: 0.0018\n",
      "Epoch 7/100\n",
      "23/23 [==============================] - 26s 1s/step - loss: 0.0015\n",
      "Epoch 8/100\n",
      "23/23 [==============================] - 25s 1s/step - loss: 0.0015\n",
      "Epoch 9/100\n",
      "23/23 [==============================] - 25s 1s/step - loss: 0.0017\n",
      "Epoch 10/100\n",
      "23/23 [==============================] - 25s 1s/step - loss: 0.0014\n",
      "Epoch 11/100\n",
      "23/23 [==============================] - 25s 1s/step - loss: 0.0015\n",
      "Epoch 12/100\n",
      "23/23 [==============================] - 26s 1s/step - loss: 0.0013\n",
      "Epoch 13/100\n",
      "23/23 [==============================] - 25s 1s/step - loss: 0.0013\n",
      "Epoch 14/100\n",
      "23/23 [==============================] - 26s 1s/step - loss: 0.0012\n",
      "Epoch 15/100\n",
      "23/23 [==============================] - 25s 1s/step - loss: 0.0013\n",
      "Epoch 16/100\n",
      "23/23 [==============================] - 25s 1s/step - loss: 0.0013\n",
      "Epoch 17/100\n",
      "23/23 [==============================] - 26s 1s/step - loss: 0.0016\n",
      "Epoch 18/100\n",
      "23/23 [==============================] - 25s 1s/step - loss: 0.0015\n",
      "Epoch 19/100\n",
      "23/23 [==============================] - 25s 1s/step - loss: 0.0011\n",
      "Epoch 20/100\n",
      "23/23 [==============================] - 25s 1s/step - loss: 0.0012\n",
      "Epoch 21/100\n",
      "23/23 [==============================] - 25s 1s/step - loss: 0.0011\n",
      "Epoch 22/100\n",
      "23/23 [==============================] - 25s 1s/step - loss: 0.0011\n",
      "Epoch 23/100\n",
      "23/23 [==============================] - 25s 1s/step - loss: 0.0010\n",
      "Epoch 24/100\n",
      "23/23 [==============================] - 26s 1s/step - loss: 9.4478e-04\n",
      "Epoch 25/100\n",
      "23/23 [==============================] - 25s 1s/step - loss: 9.9626e-04\n",
      "Epoch 26/100\n",
      "23/23 [==============================] - 25s 1s/step - loss: 0.0012\n",
      "Epoch 27/100\n",
      "23/23 [==============================] - 25s 1s/step - loss: 0.0010\n",
      "Epoch 28/100\n",
      "23/23 [==============================] - 25s 1s/step - loss: 0.0010\n",
      "Epoch 29/100\n",
      "23/23 [==============================] - 25s 1s/step - loss: 9.8765e-04\n",
      "Epoch 30/100\n",
      "23/23 [==============================] - 25s 1s/step - loss: 9.9879e-04\n",
      "Epoch 31/100\n",
      "23/23 [==============================] - 26s 1s/step - loss: 9.3233e-04\n",
      "Epoch 32/100\n",
      "23/23 [==============================] - 24s 1s/step - loss: 0.0012\n",
      "Epoch 33/100\n",
      "23/23 [==============================] - 24s 1s/step - loss: 9.0831e-04\n",
      "Epoch 34/100\n",
      "23/23 [==============================] - 25s 1s/step - loss: 8.7982e-04\n",
      "Epoch 35/100\n",
      "23/23 [==============================] - 25s 1s/step - loss: 8.6116e-04\n",
      "Epoch 36/100\n",
      "23/23 [==============================] - 25s 1s/step - loss: 9.1746e-04\n",
      "Epoch 37/100\n",
      "23/23 [==============================] - 25s 1s/step - loss: 9.6172e-04\n",
      "Epoch 38/100\n",
      "23/23 [==============================] - 25s 1s/step - loss: 8.6347e-04\n",
      "Epoch 39/100\n",
      "23/23 [==============================] - 25s 1s/step - loss: 8.6824e-04\n",
      "Epoch 40/100\n",
      "23/23 [==============================] - 26s 1s/step - loss: 7.2740e-04\n",
      "Epoch 41/100\n",
      "23/23 [==============================] - 26s 1s/step - loss: 8.0268e-04\n",
      "Epoch 42/100\n",
      "23/23 [==============================] - 26s 1s/step - loss: 6.9570e-04\n",
      "Epoch 43/100\n",
      "23/23 [==============================] - 26s 1s/step - loss: 7.9230e-04\n",
      "Epoch 44/100\n",
      "23/23 [==============================] - 26s 1s/step - loss: 9.1581e-04\n",
      "Epoch 45/100\n",
      "23/23 [==============================] - 26s 1s/step - loss: 7.5458e-04\n",
      "Epoch 46/100\n",
      "23/23 [==============================] - 26s 1s/step - loss: 6.0819e-04\n",
      "Epoch 47/100\n",
      "23/23 [==============================] - 26s 1s/step - loss: 7.3937e-04\n",
      "Epoch 48/100\n",
      "23/23 [==============================] - 26s 1s/step - loss: 6.2913e-04\n",
      "Epoch 49/100\n",
      "23/23 [==============================] - 26s 1s/step - loss: 6.6334e-04\n",
      "Epoch 50/100\n",
      "23/23 [==============================] - 26s 1s/step - loss: 7.5938e-04\n",
      "Epoch 51/100\n",
      "23/23 [==============================] - 26s 1s/step - loss: 6.7663e-04\n",
      "Epoch 52/100\n",
      "23/23 [==============================] - 26s 1s/step - loss: 7.0462e-04\n",
      "Epoch 53/100\n",
      "23/23 [==============================] - 26s 1s/step - loss: 6.3740e-04\n",
      "Epoch 54/100\n",
      "23/23 [==============================] - 26s 1s/step - loss: 5.7327e-04\n",
      "Epoch 55/100\n",
      "23/23 [==============================] - 26s 1s/step - loss: 8.2553e-04\n",
      "Epoch 56/100\n",
      "23/23 [==============================] - 26s 1s/step - loss: 7.6428e-04\n",
      "Epoch 57/100\n",
      "23/23 [==============================] - 26s 1s/step - loss: 7.4818e-04\n",
      "Epoch 58/100\n",
      "23/23 [==============================] - 26s 1s/step - loss: 5.7367e-04\n",
      "Epoch 59/100\n",
      "23/23 [==============================] - 26s 1s/step - loss: 6.1987e-04\n",
      "Epoch 60/100\n",
      "23/23 [==============================] - 25s 1s/step - loss: 6.6170e-04\n",
      "Epoch 61/100\n",
      "23/23 [==============================] - 25s 1s/step - loss: 6.5926e-04\n",
      "Epoch 62/100\n",
      "23/23 [==============================] - 25s 1s/step - loss: 8.4630e-04\n",
      "Epoch 63/100\n",
      "23/23 [==============================] - 26s 1s/step - loss: 6.1432e-04\n",
      "Epoch 64/100\n",
      "23/23 [==============================] - 26s 1s/step - loss: 5.7819e-04\n",
      "Epoch 65/100\n",
      "23/23 [==============================] - 26s 1s/step - loss: 6.4630e-04\n",
      "Epoch 66/100\n",
      "23/23 [==============================] - 26s 1s/step - loss: 5.7200e-04\n",
      "Epoch 67/100\n",
      "23/23 [==============================] - 25s 1s/step - loss: 6.5118e-04\n",
      "Epoch 68/100\n",
      "23/23 [==============================] - 26s 1s/step - loss: 5.8516e-04\n",
      "Epoch 69/100\n",
      "23/23 [==============================] - 26s 1s/step - loss: 5.2239e-04\n",
      "Epoch 70/100\n",
      "23/23 [==============================] - 26s 1s/step - loss: 5.3655e-04\n",
      "Epoch 71/100\n",
      "23/23 [==============================] - 26s 1s/step - loss: 5.0342e-04\n",
      "Epoch 72/100\n",
      "23/23 [==============================] - 26s 1s/step - loss: 5.0502e-04\n",
      "Epoch 73/100\n",
      "23/23 [==============================] - 26s 1s/step - loss: 5.9121e-04\n",
      "Epoch 74/100\n",
      "23/23 [==============================] - 26s 1s/step - loss: 5.7567e-04\n",
      "Epoch 75/100\n",
      "23/23 [==============================] - 26s 1s/step - loss: 5.9046e-04\n",
      "Epoch 76/100\n",
      "23/23 [==============================] - 26s 1s/step - loss: 5.1890e-04\n",
      "Epoch 77/100\n",
      "23/23 [==============================] - 26s 1s/step - loss: 5.2978e-04\n",
      "Epoch 78/100\n",
      "23/23 [==============================] - 26s 1s/step - loss: 6.2929e-04\n",
      "Epoch 79/100\n",
      "23/23 [==============================] - 26s 1s/step - loss: 5.4242e-04\n",
      "Epoch 80/100\n",
      "23/23 [==============================] - 26s 1s/step - loss: 4.7780e-04\n",
      "Epoch 81/100\n",
      "23/23 [==============================] - 26s 1s/step - loss: 4.7323e-04\n",
      "Epoch 82/100\n",
      "23/23 [==============================] - 26s 1s/step - loss: 4.9229e-04\n",
      "Epoch 83/100\n",
      "23/23 [==============================] - 26s 1s/step - loss: 5.6982e-04\n",
      "Epoch 84/100\n",
      "23/23 [==============================] - 26s 1s/step - loss: 5.8186e-04\n",
      "Epoch 85/100\n",
      "23/23 [==============================] - 26s 1s/step - loss: 4.6415e-04\n",
      "Epoch 86/100\n",
      "23/23 [==============================] - 26s 1s/step - loss: 4.6583e-04\n",
      "Epoch 87/100\n",
      "23/23 [==============================] - 26s 1s/step - loss: 4.3285e-04\n",
      "Epoch 88/100\n",
      "23/23 [==============================] - 27s 1s/step - loss: 4.5774e-04\n",
      "Epoch 89/100\n",
      "23/23 [==============================] - 26s 1s/step - loss: 4.2370e-04\n",
      "Epoch 90/100\n",
      "23/23 [==============================] - 26s 1s/step - loss: 4.5039e-04\n",
      "Epoch 91/100\n",
      "23/23 [==============================] - 27s 1s/step - loss: 5.0234e-04\n",
      "Epoch 92/100\n",
      "23/23 [==============================] - 26s 1s/step - loss: 4.9324e-04\n",
      "Epoch 93/100\n",
      "23/23 [==============================] - 26s 1s/step - loss: 5.4962e-04\n",
      "Epoch 94/100\n",
      "23/23 [==============================] - 27s 1s/step - loss: 4.2488e-04\n",
      "Epoch 95/100\n",
      "23/23 [==============================] - 26s 1s/step - loss: 4.7522e-04\n",
      "Epoch 96/100\n",
      "23/23 [==============================] - 26s 1s/step - loss: 4.9261e-04\n",
      "Epoch 97/100\n",
      "23/23 [==============================] - 26s 1s/step - loss: 4.3366e-04\n",
      "Epoch 98/100\n",
      "23/23 [==============================] - 25s 1s/step - loss: 4.9883e-04\n",
      "Epoch 99/100\n",
      "23/23 [==============================] - 26s 1s/step - loss: 4.3388e-04\n",
      "Epoch 100/100\n",
      "23/23 [==============================] - 26s 1s/step - loss: 4.3601e-04\n"
     ]
    },
    {
     "data": {
      "text/plain": [
       "<keras.callbacks.History at 0x2046f8da160>"
      ]
     },
     "execution_count": 124,
     "metadata": {},
     "output_type": "execute_result"
    }
   ],
   "source": [
    "model_GRU = Sequential()\n",
    "\n",
    "# Ajout d'une première couche LSTM et d'une régularisation Dropout\n",
    "model_GRU.add(LSTM(units = 200, return_sequences = True, input_shape = (X_train.shape[1], 1)))\n",
    "model_GRU.add(Dropout(0.2))\n",
    "\n",
    "# Ajout d'une deuxième couche LSTM et d'une régularisation Dropout\n",
    "model_GRU.add(GRU(units = 50, return_sequences = True))\n",
    "model_GRU.add(Dropout(0.2))\n",
    "\n",
    "model_GRU.add(GRU(units = 50, return_sequences = True))\n",
    "model_GRU.add(Dropout(0.2))\n",
    "\n",
    "model_GRU.add(GRU(units = 50, return_sequences=True))\n",
    "model_GRU.add(Dropout(0.2))\n",
    "\n",
    "model_GRU.add(GRU(units = 50, return_sequences=True))\n",
    "model_GRU.add(Dropout(0.2))\n",
    "\n",
    "model_GRU.add(GRU(units = 50, return_sequences=True))\n",
    "model_GRU.add(Dropout(0.2))\n",
    "\n",
    "model_GRU.add(GRU(units = 50))\n",
    "model_GRU.add(Dropout(0.2))\n",
    "\n",
    "# Ajout de la couche de sortie\n",
    "model_GRU.add(Dense(units = 1))\n",
    "\n",
    "# Compilation du réseau\n",
    "model_GRU.compile(\n",
    "    optimizer = 'adam', \n",
    "    loss = 'mean_squared_error')\n",
    "\n",
    "# Adapter le réseau à l'ensemble d'entraînement\n",
    "model_GRU.fit(X_train, y_train, epochs = 100, batch_size = 32)\n"
   ]
  },
  {
   "cell_type": "code",
   "execution_count": 133,
   "id": "976c728c",
   "metadata": {},
   "outputs": [
    {
     "name": "stdout",
     "output_type": "stream",
     "text": [
      "13/13 [==============================] - 4s 324ms/step\n"
     ]
    },
    {
     "data": {
      "text/plain": [
       "0.9859856703234279"
      ]
     },
     "execution_count": 133,
     "metadata": {},
     "output_type": "execute_result"
    }
   ],
   "source": [
    "predicted_stock_gru = model_GRU.predict(X_test)\n",
    "predicted_stock_gru = scaler.inverse_transform(predicted_stock_gru)\n",
    "train = données[:split_val]\n",
    "valid = données[split_val:]\n",
    "valid['Predictions'] = predicted_stock_gru\n",
    "score = r2_score(y_test, predicted_stock_gru)\n",
    "score"
   ]
  },
  {
   "cell_type": "code",
   "execution_count": 127,
   "id": "6e97baf5",
   "metadata": {},
   "outputs": [
    {
     "data": {
      "image/png": "[encoded data removed]",
      "text/plain": [
       "<Figure size 1152x576 with 1 Axes>"
      ]
     },
     "metadata": {
      "needs_background": "light"
     },
     "output_type": "display_data"
    }
   ],
   "source": [
    "plt.figure(figsize=(16,8))\n",
    "plt.title('Model')\n",
    "plt.xlabel('Date', fontsize=8)\n",
    "plt.ylabel('SPX', fontsize=12)\n",
    "plt.plot(train['valeur'])\n",
    "plt.plot(valid[['valeur', 'Predictions']])\n",
    "plt.legend(['Train', 'Val', 'Predictions'], loc='lower right')\n",
    "plt.show()\n"
   ]
  },
  {
   "cell_type": "markdown",
   "id": "8c819750",
   "metadata": {},
   "source": [
    "# Modèle CNN"
   ]
  },
  {
   "cell_type": "code",
   "execution_count": 129,
   "id": "7a45895f",
   "metadata": {},
   "outputs": [
    {
     "name": "stdout",
     "output_type": "stream",
     "text": [
      "Epoch 1/100\n",
      "23/23 [==============================] - 7s 128ms/step - loss: 0.0126 - accuracy: 0.0000e+00 - val_loss: 4742760.5000 - val_accuracy: 0.0000e+00\n",
      "Epoch 2/100\n",
      "23/23 [==============================] - 2s 81ms/step - loss: 0.0034 - accuracy: 0.0000e+00 - val_loss: 4742657.5000 - val_accuracy: 0.0000e+00\n",
      "Epoch 3/100\n",
      "23/23 [==============================] - 2s 82ms/step - loss: 0.0022 - accuracy: 0.0000e+00 - val_loss: 4742692.5000 - val_accuracy: 0.0000e+00\n",
      "Epoch 4/100\n",
      "23/23 [==============================] - 2s 81ms/step - loss: 0.0018 - accuracy: 0.0000e+00 - val_loss: 4743103.0000 - val_accuracy: 0.0000e+00\n",
      "Epoch 5/100\n",
      "23/23 [==============================] - 2s 73ms/step - loss: 0.0022 - accuracy: 0.0000e+00 - val_loss: 4742595.5000 - val_accuracy: 0.0000e+00\n",
      "Epoch 6/100\n",
      "23/23 [==============================] - 2s 80ms/step - loss: 0.0017 - accuracy: 0.0000e+00 - val_loss: 4742598.0000 - val_accuracy: 0.0000e+00\n",
      "Epoch 7/100\n",
      "23/23 [==============================] - 2s 79ms/step - loss: 0.0015 - accuracy: 0.0000e+00 - val_loss: 4742867.0000 - val_accuracy: 0.0000e+00\n",
      "Epoch 8/100\n",
      "23/23 [==============================] - 2s 82ms/step - loss: 0.0018 - accuracy: 0.0000e+00 - val_loss: 4742785.5000 - val_accuracy: 0.0000e+00\n",
      "Epoch 9/100\n",
      "23/23 [==============================] - 2s 82ms/step - loss: 0.0017 - accuracy: 0.0000e+00 - val_loss: 4742678.5000 - val_accuracy: 0.0000e+00\n",
      "Epoch 10/100\n",
      "23/23 [==============================] - 2s 79ms/step - loss: 0.0017 - accuracy: 0.0000e+00 - val_loss: 4742672.0000 - val_accuracy: 0.0000e+00\n",
      "Epoch 11/100\n",
      "23/23 [==============================] - 2s 82ms/step - loss: 0.0013 - accuracy: 0.0000e+00 - val_loss: 4742555.0000 - val_accuracy: 0.0000e+00\n",
      "Epoch 12/100\n",
      "23/23 [==============================] - 2s 82ms/step - loss: 0.0010 - accuracy: 0.0000e+00 - val_loss: 4742480.0000 - val_accuracy: 0.0000e+00\n",
      "Epoch 13/100\n",
      "23/23 [==============================] - 2s 77ms/step - loss: 0.0013 - accuracy: 0.0000e+00 - val_loss: 4742723.5000 - val_accuracy: 0.0000e+00\n",
      "Epoch 14/100\n",
      "23/23 [==============================] - 2s 73ms/step - loss: 0.0012 - accuracy: 0.0000e+00 - val_loss: 4742511.0000 - val_accuracy: 0.0000e+00\n",
      "Epoch 15/100\n",
      "23/23 [==============================] - 2s 81ms/step - loss: 9.6524e-04 - accuracy: 0.0000e+00 - val_loss: 4742620.5000 - val_accuracy: 0.0000e+00\n",
      "Epoch 16/100\n",
      "23/23 [==============================] - 2s 82ms/step - loss: 8.6705e-04 - accuracy: 0.0000e+00 - val_loss: 4742535.5000 - val_accuracy: 0.0000e+00\n",
      "Epoch 17/100\n",
      "23/23 [==============================] - 2s 82ms/step - loss: 9.4700e-04 - accuracy: 0.0000e+00 - val_loss: 4742460.5000 - val_accuracy: 0.0000e+00\n",
      "Epoch 18/100\n",
      "23/23 [==============================] - 2s 81ms/step - loss: 9.0815e-04 - accuracy: 0.0000e+00 - val_loss: 4742331.0000 - val_accuracy: 0.0000e+00\n",
      "Epoch 19/100\n",
      "23/23 [==============================] - 2s 79ms/step - loss: 9.2247e-04 - accuracy: 0.0000e+00 - val_loss: 4742612.5000 - val_accuracy: 0.0000e+00\n",
      "Epoch 20/100\n",
      "23/23 [==============================] - 2s 82ms/step - loss: 0.0011 - accuracy: 0.0000e+00 - val_loss: 4742487.5000 - val_accuracy: 0.0000e+00\n",
      "Epoch 21/100\n",
      "23/23 [==============================] - 2s 82ms/step - loss: 7.6624e-04 - accuracy: 0.0000e+00 - val_loss: 4742452.0000 - val_accuracy: 0.0000e+00\n",
      "Epoch 22/100\n",
      "23/23 [==============================] - 2s 75ms/step - loss: 7.3541e-04 - accuracy: 0.0000e+00 - val_loss: 4742526.0000 - val_accuracy: 0.0000e+00\n",
      "Epoch 23/100\n",
      "23/23 [==============================] - 2s 81ms/step - loss: 7.9779e-04 - accuracy: 0.0000e+00 - val_loss: 4742356.0000 - val_accuracy: 0.0000e+00\n",
      "Epoch 24/100\n",
      "23/23 [==============================] - 2s 82ms/step - loss: 6.8655e-04 - accuracy: 0.0000e+00 - val_loss: 4742514.5000 - val_accuracy: 0.0000e+00\n",
      "Epoch 25/100\n",
      "23/23 [==============================] - 2s 81ms/step - loss: 7.1692e-04 - accuracy: 0.0000e+00 - val_loss: 4742469.5000 - val_accuracy: 0.0000e+00\n",
      "Epoch 26/100\n",
      "23/23 [==============================] - 2s 81ms/step - loss: 7.2988e-04 - accuracy: 0.0000e+00 - val_loss: 4742335.0000 - val_accuracy: 0.0000e+00\n",
      "Epoch 27/100\n",
      "23/23 [==============================] - 2s 81ms/step - loss: 6.9670e-04 - accuracy: 0.0000e+00 - val_loss: 4742436.5000 - val_accuracy: 0.0000e+00\n",
      "Epoch 28/100\n",
      "23/23 [==============================] - 2s 81ms/step - loss: 7.8704e-04 - accuracy: 0.0000e+00 - val_loss: 4742318.0000 - val_accuracy: 0.0000e+00\n",
      "Epoch 29/100\n",
      "23/23 [==============================] - 2s 80ms/step - loss: 6.4916e-04 - accuracy: 0.0000e+00 - val_loss: 4742486.5000 - val_accuracy: 0.0000e+00\n",
      "Epoch 30/100\n",
      "23/23 [==============================] - 2s 81ms/step - loss: 6.3875e-04 - accuracy: 0.0000e+00 - val_loss: 4742421.5000 - val_accuracy: 0.0000e+00\n",
      "Epoch 31/100\n",
      "23/23 [==============================] - 2s 72ms/step - loss: 6.7154e-04 - accuracy: 0.0000e+00 - val_loss: 4742399.5000 - val_accuracy: 0.0000e+00\n",
      "Epoch 32/100\n",
      "23/23 [==============================] - 2s 81ms/step - loss: 6.6869e-04 - accuracy: 0.0000e+00 - val_loss: 4742179.5000 - val_accuracy: 0.0000e+00\n",
      "Epoch 33/100\n",
      "23/23 [==============================] - 2s 81ms/step - loss: 6.3435e-04 - accuracy: 0.0000e+00 - val_loss: 4742440.5000 - val_accuracy: 0.0000e+00\n",
      "Epoch 34/100\n",
      "23/23 [==============================] - 2s 82ms/step - loss: 5.7263e-04 - accuracy: 0.0000e+00 - val_loss: 4742345.0000 - val_accuracy: 0.0000e+00\n",
      "Epoch 35/100\n",
      "23/23 [==============================] - 2s 81ms/step - loss: 5.5050e-04 - accuracy: 0.0000e+00 - val_loss: 4742369.0000 - val_accuracy: 0.0000e+00\n",
      "Epoch 36/100\n",
      "23/23 [==============================] - 2s 81ms/step - loss: 6.6036e-04 - accuracy: 0.0000e+00 - val_loss: 4742350.0000 - val_accuracy: 0.0000e+00\n",
      "Epoch 37/100\n",
      "23/23 [==============================] - 2s 81ms/step - loss: 5.6369e-04 - accuracy: 0.0000e+00 - val_loss: 4742375.5000 - val_accuracy: 0.0000e+00\n",
      "Epoch 38/100\n",
      "23/23 [==============================] - 2s 81ms/step - loss: 5.8421e-04 - accuracy: 0.0000e+00 - val_loss: 4742282.0000 - val_accuracy: 0.0000e+00\n",
      "Epoch 39/100\n",
      "23/23 [==============================] - 2s 80ms/step - loss: 5.5532e-04 - accuracy: 0.0000e+00 - val_loss: 4742405.0000 - val_accuracy: 0.0000e+00\n",
      "Epoch 40/100\n",
      "23/23 [==============================] - 2s 73ms/step - loss: 5.6287e-04 - accuracy: 0.0000e+00 - val_loss: 4742303.0000 - val_accuracy: 0.0000e+00\n",
      "Epoch 41/100\n",
      "23/23 [==============================] - 2s 82ms/step - loss: 5.0900e-04 - accuracy: 0.0000e+00 - val_loss: 4742330.5000 - val_accuracy: 0.0000e+00\n",
      "Epoch 42/100\n",
      "23/23 [==============================] - 2s 81ms/step - loss: 5.8340e-04 - accuracy: 0.0000e+00 - val_loss: 4742185.5000 - val_accuracy: 0.0000e+00\n",
      "Epoch 43/100\n",
      "23/23 [==============================] - 2s 81ms/step - loss: 5.1621e-04 - accuracy: 0.0000e+00 - val_loss: 4742423.5000 - val_accuracy: 0.0000e+00\n",
      "Epoch 44/100\n",
      "23/23 [==============================] - 2s 81ms/step - loss: 5.6526e-04 - accuracy: 0.0000e+00 - val_loss: 4742226.5000 - val_accuracy: 0.0000e+00\n",
      "Epoch 45/100\n",
      "23/23 [==============================] - 2s 81ms/step - loss: 4.8632e-04 - accuracy: 0.0000e+00 - val_loss: 4742413.0000 - val_accuracy: 0.0000e+00\n",
      "Epoch 46/100\n",
      "23/23 [==============================] - 2s 81ms/step - loss: 6.0999e-04 - accuracy: 0.0000e+00 - val_loss: 4742239.0000 - val_accuracy: 0.0000e+00\n",
      "Epoch 47/100\n",
      "23/23 [==============================] - 2s 81ms/step - loss: 4.9423e-04 - accuracy: 0.0000e+00 - val_loss: 4742285.5000 - val_accuracy: 0.0000e+00\n",
      "Epoch 48/100\n",
      "23/23 [==============================] - 2s 76ms/step - loss: 4.9852e-04 - accuracy: 0.0000e+00 - val_loss: 4742338.5000 - val_accuracy: 0.0000e+00\n",
      "Epoch 49/100\n",
      "23/23 [==============================] - 2s 77ms/step - loss: 5.0861e-04 - accuracy: 0.0000e+00 - val_loss: 4742264.0000 - val_accuracy: 0.0000e+00\n",
      "Epoch 50/100\n",
      "23/23 [==============================] - 2s 80ms/step - loss: 6.3626e-04 - accuracy: 0.0000e+00 - val_loss: 4742265.5000 - val_accuracy: 0.0000e+00\n",
      "Epoch 51/100\n",
      "23/23 [==============================] - 2s 76ms/step - loss: 5.1604e-04 - accuracy: 0.0000e+00 - val_loss: 4742331.0000 - val_accuracy: 0.0000e+00\n",
      "Epoch 52/100\n",
      "23/23 [==============================] - 2s 82ms/step - loss: 4.2630e-04 - accuracy: 0.0000e+00 - val_loss: 4742283.5000 - val_accuracy: 0.0000e+00\n",
      "Epoch 53/100\n",
      "23/23 [==============================] - 2s 82ms/step - loss: 4.6983e-04 - accuracy: 0.0000e+00 - val_loss: 4742223.5000 - val_accuracy: 0.0000e+00\n",
      "Epoch 54/100\n",
      "23/23 [==============================] - 2s 82ms/step - loss: 5.2041e-04 - accuracy: 0.0000e+00 - val_loss: 4742311.0000 - val_accuracy: 0.0000e+00\n",
      "Epoch 55/100\n",
      "23/23 [==============================] - 2s 82ms/step - loss: 4.7476e-04 - accuracy: 0.0000e+00 - val_loss: 4742313.0000 - val_accuracy: 0.0000e+00\n",
      "Epoch 56/100\n",
      "23/23 [==============================] - 2s 82ms/step - loss: 5.2538e-04 - accuracy: 0.0000e+00 - val_loss: 4742341.0000 - val_accuracy: 0.0000e+00\n",
      "Epoch 57/100\n",
      "23/23 [==============================] - 2s 75ms/step - loss: 4.2321e-04 - accuracy: 0.0000e+00 - val_loss: 4742301.0000 - val_accuracy: 0.0000e+00\n",
      "Epoch 58/100\n",
      "23/23 [==============================] - 2s 83ms/step - loss: 4.8676e-04 - accuracy: 0.0000e+00 - val_loss: 4742190.0000 - val_accuracy: 0.0000e+00\n",
      "Epoch 59/100\n",
      "23/23 [==============================] - 2s 83ms/step - loss: 4.0698e-04 - accuracy: 0.0000e+00 - val_loss: 4742304.0000 - val_accuracy: 0.0000e+00\n",
      "Epoch 60/100\n",
      "23/23 [==============================] - 2s 82ms/step - loss: 4.3034e-04 - accuracy: 0.0000e+00 - val_loss: 4742311.0000 - val_accuracy: 0.0000e+00\n",
      "Epoch 61/100\n",
      "23/23 [==============================] - 2s 81ms/step - loss: 3.8025e-04 - accuracy: 0.0000e+00 - val_loss: 4742177.5000 - val_accuracy: 0.0000e+00\n",
      "Epoch 62/100\n",
      "23/23 [==============================] - 2s 80ms/step - loss: 3.7986e-04 - accuracy: 0.0000e+00 - val_loss: 4742329.0000 - val_accuracy: 0.0000e+00\n",
      "Epoch 63/100\n",
      "23/23 [==============================] - 2s 80ms/step - loss: 4.4797e-04 - accuracy: 0.0000e+00 - val_loss: 4742380.5000 - val_accuracy: 0.0000e+00\n",
      "Epoch 64/100\n",
      "23/23 [==============================] - 2s 81ms/step - loss: 4.0334e-04 - accuracy: 0.0000e+00 - val_loss: 4742296.0000 - val_accuracy: 0.0000e+00\n",
      "Epoch 65/100\n",
      "23/23 [==============================] - 2s 79ms/step - loss: 3.4635e-04 - accuracy: 0.0000e+00 - val_loss: 4742322.5000 - val_accuracy: 0.0000e+00\n",
      "Epoch 66/100\n",
      "23/23 [==============================] - 2s 71ms/step - loss: 3.7857e-04 - accuracy: 0.0000e+00 - val_loss: 4742155.5000 - val_accuracy: 0.0000e+00\n",
      "Epoch 67/100\n",
      "23/23 [==============================] - 2s 82ms/step - loss: 4.6197e-04 - accuracy: 0.0000e+00 - val_loss: 4742371.5000 - val_accuracy: 0.0000e+00\n",
      "Epoch 68/100\n",
      "23/23 [==============================] - 2s 81ms/step - loss: 3.7778e-04 - accuracy: 0.0000e+00 - val_loss: 4742307.0000 - val_accuracy: 0.0000e+00\n",
      "Epoch 69/100\n",
      "23/23 [==============================] - 2s 82ms/step - loss: 3.5315e-04 - accuracy: 0.0000e+00 - val_loss: 4742220.0000 - val_accuracy: 0.0000e+00\n",
      "Epoch 70/100\n",
      "23/23 [==============================] - 2s 81ms/step - loss: 3.7635e-04 - accuracy: 0.0000e+00 - val_loss: 4742320.5000 - val_accuracy: 0.0000e+00\n",
      "Epoch 71/100\n",
      "23/23 [==============================] - 2s 76ms/step - loss: 3.5114e-04 - accuracy: 0.0000e+00 - val_loss: 4742311.0000 - val_accuracy: 0.0000e+00\n",
      "Epoch 72/100\n",
      "23/23 [==============================] - 2s 77ms/step - loss: 3.4502e-04 - accuracy: 0.0000e+00 - val_loss: 4742221.0000 - val_accuracy: 0.0000e+00\n",
      "Epoch 73/100\n",
      "23/23 [==============================] - 2s 81ms/step - loss: 3.6290e-04 - accuracy: 0.0000e+00 - val_loss: 4742390.0000 - val_accuracy: 0.0000e+00\n",
      "Epoch 74/100\n",
      "23/23 [==============================] - 2s 80ms/step - loss: 3.6235e-04 - accuracy: 0.0000e+00 - val_loss: 4742323.5000 - val_accuracy: 0.0000e+00\n",
      "Epoch 75/100\n",
      "23/23 [==============================] - 2s 72ms/step - loss: 3.9925e-04 - accuracy: 0.0000e+00 - val_loss: 4742220.0000 - val_accuracy: 0.0000e+00\n",
      "Epoch 76/100\n",
      "23/23 [==============================] - 2s 78ms/step - loss: 3.7432e-04 - accuracy: 0.0000e+00 - val_loss: 4742331.5000 - val_accuracy: 0.0000e+00\n",
      "Epoch 77/100\n",
      "23/23 [==============================] - 2s 82ms/step - loss: 3.1525e-04 - accuracy: 0.0000e+00 - val_loss: 4742249.5000 - val_accuracy: 0.0000e+00\n",
      "Epoch 78/100\n",
      "23/23 [==============================] - 2s 78ms/step - loss: 3.2404e-04 - accuracy: 0.0000e+00 - val_loss: 4742304.0000 - val_accuracy: 0.0000e+00\n",
      "Epoch 79/100\n",
      "23/23 [==============================] - 2s 83ms/step - loss: 3.3369e-04 - accuracy: 0.0000e+00 - val_loss: 4742229.5000 - val_accuracy: 0.0000e+00\n",
      "Epoch 80/100\n",
      "23/23 [==============================] - 2s 84ms/step - loss: 3.2910e-04 - accuracy: 0.0000e+00 - val_loss: 4742290.0000 - val_accuracy: 0.0000e+00\n",
      "Epoch 81/100\n",
      "23/23 [==============================] - 2s 80ms/step - loss: 3.1340e-04 - accuracy: 0.0000e+00 - val_loss: 4742285.5000 - val_accuracy: 0.0000e+00\n",
      "Epoch 82/100\n",
      "23/23 [==============================] - 2s 80ms/step - loss: 3.2659e-04 - accuracy: 0.0000e+00 - val_loss: 4742300.0000 - val_accuracy: 0.0000e+00\n",
      "Epoch 83/100\n",
      "23/23 [==============================] - 2s 77ms/step - loss: 3.4202e-04 - accuracy: 0.0000e+00 - val_loss: 4742278.0000 - val_accuracy: 0.0000e+00\n",
      "Epoch 84/100\n",
      "23/23 [==============================] - 2s 78ms/step - loss: 3.5200e-04 - accuracy: 0.0000e+00 - val_loss: 4742212.5000 - val_accuracy: 0.0000e+00\n",
      "Epoch 85/100\n",
      "23/23 [==============================] - 2s 82ms/step - loss: 3.3936e-04 - accuracy: 0.0000e+00 - val_loss: 4742318.0000 - val_accuracy: 0.0000e+00\n",
      "Epoch 86/100\n",
      "23/23 [==============================] - 2s 82ms/step - loss: 3.0769e-04 - accuracy: 0.0000e+00 - val_loss: 4742212.0000 - val_accuracy: 0.0000e+00\n",
      "Epoch 87/100\n",
      "23/23 [==============================] - 2s 80ms/step - loss: 2.7670e-04 - accuracy: 0.0000e+00 - val_loss: 4742225.0000 - val_accuracy: 0.0000e+00\n",
      "Epoch 88/100\n",
      "23/23 [==============================] - 2s 83ms/step - loss: 2.8667e-04 - accuracy: 0.0000e+00 - val_loss: 4742331.0000 - val_accuracy: 0.0000e+00\n",
      "Epoch 89/100\n",
      "23/23 [==============================] - 2s 84ms/step - loss: 3.0373e-04 - accuracy: 0.0000e+00 - val_loss: 4742303.5000 - val_accuracy: 0.0000e+00\n",
      "Epoch 90/100\n",
      "23/23 [==============================] - 2s 83ms/step - loss: 3.0335e-04 - accuracy: 0.0000e+00 - val_loss: 4742276.5000 - val_accuracy: 0.0000e+00\n",
      "Epoch 91/100\n",
      "23/23 [==============================] - 2s 84ms/step - loss: 2.8523e-04 - accuracy: 0.0000e+00 - val_loss: 4742247.0000 - val_accuracy: 0.0000e+00\n",
      "Epoch 92/100\n",
      "23/23 [==============================] - 2s 75ms/step - loss: 3.1019e-04 - accuracy: 0.0000e+00 - val_loss: 4742270.5000 - val_accuracy: 0.0000e+00\n",
      "Epoch 93/100\n",
      "23/23 [==============================] - 2s 84ms/step - loss: 3.0602e-04 - accuracy: 0.0000e+00 - val_loss: 4742224.5000 - val_accuracy: 0.0000e+00\n",
      "Epoch 94/100\n",
      "23/23 [==============================] - 2s 82ms/step - loss: 3.1499e-04 - accuracy: 0.0000e+00 - val_loss: 4742195.0000 - val_accuracy: 0.0000e+00\n",
      "Epoch 95/100\n",
      "23/23 [==============================] - 2s 82ms/step - loss: 3.0224e-04 - accuracy: 0.0000e+00 - val_loss: 4742244.5000 - val_accuracy: 0.0000e+00\n",
      "Epoch 96/100\n",
      "23/23 [==============================] - 2s 83ms/step - loss: 2.9159e-04 - accuracy: 0.0000e+00 - val_loss: 4742318.0000 - val_accuracy: 0.0000e+00\n",
      "Epoch 97/100\n",
      "23/23 [==============================] - 2s 79ms/step - loss: 2.5907e-04 - accuracy: 0.0000e+00 - val_loss: 4742219.0000 - val_accuracy: 0.0000e+00\n",
      "Epoch 98/100\n",
      "23/23 [==============================] - 2s 79ms/step - loss: 2.7842e-04 - accuracy: 0.0000e+00 - val_loss: 4742264.5000 - val_accuracy: 0.0000e+00\n",
      "Epoch 99/100\n",
      "23/23 [==============================] - 2s 78ms/step - loss: 2.5108e-04 - accuracy: 0.0000e+00 - val_loss: 4742277.5000 - val_accuracy: 0.0000e+00\n",
      "Epoch 100/100\n",
      "23/23 [==============================] - 2s 77ms/step - loss: 2.9765e-04 - accuracy: 0.0000e+00 - val_loss: 4742253.5000 - val_accuracy: 0.0000e+00\n"
     ]
    },
    {
     "data": {
      "text/plain": [
       "<keras.callbacks.History at 0x2045f42e820>"
      ]
     },
     "execution_count": 129,
     "metadata": {},
     "output_type": "execute_result"
    }
   ],
   "source": [
    "from keras.models import Sequential\n",
    "from keras.layers import Conv1D, MaxPooling1D, Flatten, Dense\n",
    "\n",
    "# Paramétrage\n",
    "input_shape = (X_train.shape[1], 1)\n",
    "num_classes = 2\n",
    "\n",
    "# mis en place du modèle\n",
    "CNN = Sequential()\n",
    "CNN.add(Conv1D(filters=64, kernel_size=3, activation='relu', input_shape=input_shape))\n",
    "CNN.add(MaxPooling1D(pool_size=2))\n",
    "CNN.add(LSTM(units=50, return_sequences=True))\n",
    "CNN.add(Dropout(0.2))\n",
    "CNN.add(Flatten())\n",
    "CNN.add(Dense(1, activation='relu'))\n",
    "\n",
    "#Compilation du modèle\n",
    "CNN.compile(optimizer='adam', loss='mean_squared_error', metrics=['accuracy'])\n",
    "CNN.fit(X_train, y_train, validation_data=(X_test, y_test), epochs=100, batch_size=32)"
   ]
  },
  {
   "cell_type": "code",
   "execution_count": 130,
   "id": "9ec4637d",
   "metadata": {},
   "outputs": [
    {
     "name": "stdout",
     "output_type": "stream",
     "text": [
      "13/13 [==============================] - 1s 24ms/step\n"
     ]
    },
    {
     "data": {
      "text/plain": [
       "0.792521547441496"
      ]
     },
     "execution_count": 130,
     "metadata": {},
     "output_type": "execute_result"
    }
   ],
   "source": [
    "predicted_stock_cnn = CNN.predict(X_test)\n",
    "predicted_stock_cnn = scaler.inverse_transform(predicted_stock_cnn)\n",
    "train = données[:split_val]\n",
    "valid = données[split_val:]\n",
    "valid['Predictions'] = predicted_stock_cnn\n",
    "score = r2_score(y_test, predicted_stock_cnn)\n",
    "score"
   ]
  },
  {
   "cell_type": "code",
   "execution_count": 131,
   "id": "e269b161",
   "metadata": {},
   "outputs": [
    {
     "data": {
      "image/png": "[encoded data removed]",
      "text/plain": [
       "<Figure size 1152x576 with 1 Axes>"
      ]
     },
     "metadata": {
      "needs_background": "light"
     },
     "output_type": "display_data"
    }
   ],
   "source": [
    "plt.figure(figsize=(16,8))\n",
    "plt.title('Model')\n",
    "plt.xlabel('Date', fontsize=8)\n",
    "plt.ylabel('SPX', fontsize=12)\n",
    "plt.plot(train['valeur'])\n",
    "plt.plot(valid[['valeur', 'Predictions']])\n",
    "plt.legend(['Train', 'Val', 'Predictions'], loc='lower right')\n",
    "plt.show()\n"
   ]
  },
  {
   "cell_type": "code",
   "execution_count": 139,
   "id": "a38c18bc",
   "metadata": {},
   "outputs": [
    {
     "name": "stdout",
     "output_type": "stream",
     "text": [
      "Model: \"sequential_8\"\n",
      "_________________________________________________________________\n",
      " Layer (type)                Output Shape              Param #   \n",
      "=================================================================\n",
      " conv1d_9 (Conv1D)           (None, 178, 64)           256       \n",
      "                                                                 \n",
      " max_pooling1d_4 (MaxPooling  (None, 89, 64)           0         \n",
      " 1D)                                                             \n",
      "                                                                 \n",
      " lstm_33 (LSTM)              (None, 89, 50)            23000     \n",
      "                                                                 \n",
      " dropout_44 (Dropout)        (None, 89, 50)            0         \n",
      "                                                                 \n",
      " flatten_2 (Flatten)         (None, 4450)              0         \n",
      "                                                                 \n",
      " dense_10 (Dense)            (None, 1)                 4451      \n",
      "                                                                 \n",
      "=================================================================\n",
      "Total params: 27,707\n",
      "Trainable params: 27,707\n",
      "Non-trainable params: 0\n",
      "_________________________________________________________________\n"
     ]
    }
   ],
   "source": [
    "CNN.summary()"
   ]
  },
  {
   "cell_type": "code",
   "execution_count": 151,
   "id": "80fb127b",
   "metadata": {},
   "outputs": [],
   "source": [
    "from prettytable  import PrettyTable"
   ]
  },
  {
   "cell_type": "code",
   "execution_count": 153,
   "id": "79062f29",
   "metadata": {},
   "outputs": [
    {
     "name": "stdout",
     "output_type": "stream",
     "text": [
      "+------+----------+----------+--------+\n",
      "|      | Accuracy |   MSE    |  MAE   |\n",
      "+------+----------+----------+--------+\n",
      "| LSTM |   0.96   | 47909.06 | 184.94 |\n",
      "| GRU  |   0.99   | 3236.06  | 42.55  |\n",
      "| CNN  |   0.79   | 47909.06 | 184.94 |\n",
      "+------+----------+----------+--------+\n"
     ]
    }
   ],
   "source": [
    "myTable = PrettyTable([\"\", \"Accuracy\", \"MSE\", \"MAE\"])\n",
    "\n",
    "myTable.add_row([\"LSTM\", \n",
    "           str(round(r2_score(y_test, predicted_stock_lstm),2)), \n",
    "           str(round(mean_squared_error(y_test, predicted_stock_cnn),2)), \n",
    "           str(round(mean_absolute_error(y_test, predicted_stock_cnn),2)),\n",
    "          ]\n",
    "         )\n",
    "myTable.add_row([\"GRU\", \n",
    "           str(round(r2_score(y_test, predicted_stock_gru),2)), \n",
    "           str(round(mean_squared_error(y_test, predicted_stock_gru),2)), \n",
    "           str(round(mean_absolute_error(y_test, predicted_stock_gru),2)),\n",
    "          ]\n",
    "         )\n",
    "           \n",
    "myTable.add_row([\"CNN\", \n",
    "           str(round(r2_score(y_test, predicted_stock_cnn),2)), \n",
    "           str(round(mean_squared_error(y_test, predicted_stock_cnn),2)), \n",
    "           str(round(mean_absolute_error(y_test, predicted_stock_cnn),2)),\n",
    "          ]\n",
    "         )\n",
    "print(myTable)"
   ]
  },
  {
   "cell_type": "code",
   "execution_count": null,
   "id": "8ddd4278",
   "metadata": {},
   "outputs": [],
   "source": []
  }
 ],
 "metadata": {
  "kernelspec": {
   "display_name": "Python 3 (ipykernel)",
   "language": "python",
   "name": "python3"
  },
  "language_info": {
   "codemirror_mode": {
    "name": "ipython",
    "version": 3
   },
   "file_extension": ".py",
   "mimetype": "text/x-python",
   "name": "python",
   "nbconvert_exporter": "python",
   "pygments_lexer": "ipython3",
   "version": "3.9.7"
  }
 },
 "nbformat": 4,
 "nbformat_minor": 5
}
